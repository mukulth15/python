{
 "cells": [
  {
   "cell_type": "code",
   "execution_count": 1,
   "metadata": {},
   "outputs": [
    {
     "name": "stdout",
     "output_type": "stream",
     "text": [
      "yes it is true\n"
     ]
    }
   ],
   "source": [
    "#qus1 WAP to check if 10 is greater than 2 or not \n",
    "if 10>2:\n",
    "    print(\"yes it is true\")\n",
    "else:\n",
    "    print(\"not true \")"
   ]
  },
  {
   "cell_type": "code",
   "execution_count": 2,
   "metadata": {},
   "outputs": [
    {
     "name": "stdout",
     "output_type": "stream",
     "text": [
      "5 hello True\n"
     ]
    }
   ],
   "source": [
    "#qus2 print variables x,y,z having datatypes int , string , boolean\n",
    "a=5\n",
    "b=\"hello\"\n",
    "c=True\n",
    "print(a,b,c)"
   ]
  },
  {
   "cell_type": "code",
   "execution_count": null,
   "metadata": {},
   "outputs": [],
   "source": [
    "#qus3 print 3 variables x,y,z using assignment with multiples\n",
    "a,b,c=5,\"hello\",5.0\n",
    "print(a,b,c)\n"
   ]
  },
  {
   "cell_type": "code",
   "execution_count": null,
   "metadata": {},
   "outputs": [],
   "source": [
    "#qus4 comment the qus 1 and qus2 with their respective qus \n"
   ]
  },
  {
   "cell_type": "code",
   "execution_count": 3,
   "metadata": {},
   "outputs": [
    {
     "name": "stdout",
     "output_type": "stream",
     "text": [
      "<class 'int'> <class 'str'> <class 'bool'>\n"
     ]
    }
   ],
   "source": [
    "#qus5 print the datatype of variable defined in qus 2\n",
    "a=5\n",
    "b=\"hello\"\n",
    "c=True\n",
    "print(type(a),type(b),type(c))"
   ]
  },
  {
   "cell_type": "code",
   "execution_count": 4,
   "metadata": {},
   "outputs": [
    {
     "name": "stdout",
     "output_type": "stream",
     "text": [
      "ehllo0\n"
     ]
    }
   ],
   "source": [
    "#qus6 print the variable fullfiling the criteria abcd of variable name\n",
    "_abcd1=\"ehllo0\"\n",
    "print(_abcd1)"
   ]
  },
  {
   "cell_type": "code",
   "execution_count": 5,
   "metadata": {},
   "outputs": [
    {
     "name": "stdout",
     "output_type": "stream",
     "text": [
      "5 5.0 hello True\n",
      "<class 'int'> <class 'float'> <class 'str'> <class 'bool'>\n"
     ]
    }
   ],
   "source": [
    "#qus7 WAP to print multiple variable then its datatype \n",
    "a,b,c,d=5,5.0,\"hello\",True\n",
    "print(a,b,c,d)\n",
    "print(type(a),type(b),type(c),type(d))"
   ]
  },
  {
   "cell_type": "code",
   "execution_count": 1,
   "metadata": {},
   "outputs": [
    {
     "name": "stdout",
     "output_type": "stream",
     "text": [
      "<class 'str'> <class 'int'> <class 'float'> <class 'list'> <class 'range'> <class 'dict'> <class 'bool'> <class 'list'> <class 'tuple'> <class 'dict'>\n"
     ]
    }
   ],
   "source": [
    "\"\"\"qus8 print the datatype of\n",
    "a=\"hello\"\n",
    "b=20\n",
    "c=20.5\n",
    "d=[\"a\",\"b\",\"C\"]\n",
    "e=range(6)\n",
    "f={1:\"apple\",2:\"orange\"}\n",
    "g=True\n",
    "h=list((\"a\",\"b\",\"c\"))\n",
    "i=tuple([\"a\",\"b\",\"c\"])\n",
    "j=dict(j=key=\"1\",value=\"apple\")\"\"\"\n",
    "\n",
    "a=\"hello\"\n",
    "b=20\n",
    "c=20.5\n",
    "d=[\"a\",\"b\",\"C\"]\n",
    "e=range(6)\n",
    "f={1:\"apple\",2:\"orange\"}\n",
    "g=True\n",
    "h=list((\"a\",\"b\",\"c\"))\n",
    "i=tuple([\"a\",\"b\",\"c\"])\n",
    "j=dict(key=\"1\",value=\"apple\")\n",
    "print(type(a),type(b),type(c),type(d),type(e),type(f),type(g),type(h),type(i),type(j))\n"
   ]
  },
  {
   "cell_type": "code",
   "execution_count": 7,
   "metadata": {},
   "outputs": [
    {
     "name": "stdout",
     "output_type": "stream",
     "text": [
      "3rd and 4th char from the string from the ending :  r  o\n",
      "3rd and 4th char from the string from the starting :  l  l\n"
     ]
    }
   ],
   "source": [
    "#print 3rd and 4th char from the string from the ending and starting  \n",
    "a=\"hello world\"\n",
    "print(\"3rd and 4th char from the string from the ending :\",a[-3],a[-4],sep=\"  \")\n",
    "print(\"3rd and 4th char from the string from the starting :\",a[2],a[3],sep=\"  \")"
   ]
  },
  {
   "cell_type": "code",
   "execution_count": null,
   "metadata": {},
   "outputs": [],
   "source": []
  }
 ],
 "metadata": {
  "kernelspec": {
   "display_name": "Python 3",
   "language": "python",
   "name": "python3"
  },
  "language_info": {
   "codemirror_mode": {
    "name": "ipython",
    "version": 3
   },
   "file_extension": ".py",
   "mimetype": "text/x-python",
   "name": "python",
   "nbconvert_exporter": "python",
   "pygments_lexer": "ipython3",
   "version": "3.8.5"
  }
 },
 "nbformat": 4,
 "nbformat_minor": 4
}
