{
 "cells": [
  {
   "cell_type": "code",
   "execution_count": null,
   "id": "ddcf16df",
   "metadata": {},
   "outputs": [],
   "source": [
    "Theoretical Questions"
   ]
  },
  {
   "cell_type": "code",
   "execution_count": null,
   "id": "638c6dd2",
   "metadata": {},
   "outputs": [],
   "source": [
    "1. super() keyword and __init__ keyword for calling a constructor"
   ]
  },
  {
   "cell_type": "code",
   "execution_count": null,
   "id": "924fbe16",
   "metadata": {},
   "outputs": [],
   "source": [
    "2. Inheritance allows programmers to create classes that are built upon existing classes, and this enables a class \n",
    "created through inheritance to inherit the attributes and methods of the parent class. A class which inherits from a \n",
    "superclass is called a subclass, also called heir class or child class"
   ]
  },
  {
   "cell_type": "code",
   "execution_count": null,
   "id": "c016f540",
   "metadata": {},
   "outputs": [],
   "source": [
    "3. Yes, python functions can return multiple values.There are many ways to do that. \n",
    "Method is using Classes :- class ReturnValue(obj): def init(self, y0, y1, y2): self.y0 = y0 self.y1 = y1 self.y2 = y2\n",
    "def g(x): y0 = x + 1 y1 = x * 3 y2 = y0 ** 3 return ReturnValue (y0, y1, y2)"
   ]
  },
  {
   "cell_type": "code",
   "execution_count": null,
   "id": "62ba924e",
   "metadata": {},
   "outputs": [],
   "source": [
    "4. people = {1: {'name': 'mukul', 'age': '18'}, 2: {'name': 'ankit', 'age': '18'}}\n",
    "\n",
    "print(people[1]['name'])"
   ]
  },
  {
   "cell_type": "code",
   "execution_count": null,
   "id": "3f7d6b1d",
   "metadata": {},
   "outputs": [],
   "source": [
    "SET - C"
   ]
  },
  {
   "cell_type": "code",
   "execution_count": null,
   "id": "46ed020f",
   "metadata": {},
   "outputs": [],
   "source": [
    "1."
   ]
  },
  {
   "cell_type": "code",
   "execution_count": null,
   "id": "278cbb12",
   "metadata": {},
   "outputs": [],
   "source": [
    "import math\n",
    "\n",
    "num1 = int(input(\"Enter number one\"))\n",
    "num2 = int(input(\"Enter number two\"))\n",
    "num3 = int(input(\"Enter number three\"))\n",
    "\n",
    "Q = math.sqrt((2*num1*num2)/num3)\n",
    "\n",
    "print(Q)"
   ]
  },
  {
   "cell_type": "code",
   "execution_count": null,
   "id": "e6b09775",
   "metadata": {},
   "outputs": [],
   "source": [
    "2."
   ]
  },
  {
   "cell_type": "code",
   "execution_count": null,
   "id": "a8fbd9a0",
   "metadata": {},
   "outputs": [],
   "source": [
    "x = input(\"Enter any string\")\n",
    "\n",
    "for i in range(len(x)):\n",
    "    if(i%2!=0):\n",
    "        print(x[i])"
   ]
  },
  {
   "cell_type": "code",
   "execution_count": null,
   "id": "75a3f2e6",
   "metadata": {},
   "outputs": [],
   "source": [
    "3."
   ]
  },
  {
   "cell_type": "code",
   "execution_count": null,
   "id": "36f53989",
   "metadata": {},
   "outputs": [],
   "source": [
    "class oneClass():\n",
    "    def __init__(personName, personAge):  \n",
    "        print(\"Hello world!!\")\n",
    "\n",
    "X = oneClass(1,1)"
   ]
  }
 ],
 "metadata": {
  "kernelspec": {
   "display_name": "Python 3",
   "language": "python",
   "name": "python3"
  },
  "language_info": {
   "codemirror_mode": {
    "name": "ipython",
    "version": 3
   },
   "file_extension": ".py",
   "mimetype": "text/x-python",
   "name": "python",
   "nbconvert_exporter": "python",
   "pygments_lexer": "ipython3",
   "version": "3.8.8"
  }
 },
 "nbformat": 4,
 "nbformat_minor": 5
}
